{
 "cells": [
  {
   "cell_type": "markdown",
   "metadata": {},
   "source": [
    "Examines how the tunable $k_1$ and $k_2$ parameters effect the pickup and dropoff probabilities."
   ]
  },
  {
   "cell_type": "code",
   "execution_count": null,
   "metadata": {},
   "outputs": [],
   "source": [
    "%config InlineBackend.figure_format = 'svg'\n",
    "%matplotlib inline\n",
    "\n",
    "import matplotlib.pyplot as plt\n",
    "import numpy as np\n",
    "import seaborn as sns\n",
    "\n",
    "sns.set()"
   ]
  },
  {
   "cell_type": "code",
   "execution_count": null,
   "metadata": {},
   "outputs": [],
   "source": [
    "def perceived_fraction(kernel):\n",
    "    return np.count_nonzero(kernel) / kernel.size\n",
    "\n",
    "def pickup_probability(f, k1):\n",
    "    return (k1 / (k1 + f)) ** 2\n",
    "\n",
    "def dropoff_probability(f, k2):\n",
    "    return 2 * f if f < k2 else 1"
   ]
  },
  {
   "cell_type": "code",
   "execution_count": null,
   "metadata": {},
   "outputs": [],
   "source": [
    "def gen_kernel(radius, items):\n",
    "    width = 2 * radius + 1\n",
    "    \n",
    "    kernel = np.zeros(width ** 2, dtype=bool)\n",
    "    indices = np.random.choice(width ** 2, items, replace=False)\n",
    "    kernel[indices] = True\n",
    "    return kernel.reshape(width, width)"
   ]
  },
  {
   "cell_type": "code",
   "execution_count": null,
   "metadata": {},
   "outputs": [],
   "source": [
    "def plot_summary(radius):\n",
    "    kernels = [\n",
    "        gen_kernel(radius=radius, items=i)\n",
    "        for i in range((2 * radius + 1) ** 2 + 1)\n",
    "    ]\n",
    "    fractions = [perceived_fraction(k) for k in kernels]\n",
    "\n",
    "    for k1 in [0.01, 0.05, 0.1, 0.2]:\n",
    "        pickups = [pickup_probability(f, k1) for f in fractions]\n",
    "        plt.plot(range((2 * radius + 1) ** 2 + 1), pickups, label=f\"$k1={k1}$\")\n",
    "\n",
    "    plt.xlabel(\"neighbors\")\n",
    "    plt.ylabel(\"pickup probability\")\n",
    "    plt.title(f\"Pickup Probability ($r={radius}$)\")\n",
    "    plt.legend()\n",
    "    plt.show()\n",
    "\n",
    "    for k2 in [0.1, 0.2, 0.3, 0.5]:\n",
    "        dropoffs = [dropoff_probability(f, k2) for f in fractions]\n",
    "        plt.plot(range((2 * radius + 1) ** 2 + 1), dropoffs, label=f\"$k2={k2}$\")\n",
    "\n",
    "    plt.xlabel(\"neighbors\")\n",
    "    plt.ylabel(\"dropoff probability\")\n",
    "    plt.title(f\"Dropoff Probability ($r={radius}$)\")\n",
    "    plt.legend()\n",
    "    plt.show()"
   ]
  },
  {
   "cell_type": "code",
   "execution_count": null,
   "metadata": {},
   "outputs": [],
   "source": [
    "for r in [1, 2, 3]:\n",
    "    plot_summary(r)"
   ]
  },
  {
   "cell_type": "markdown",
   "metadata": {},
   "source": [
    "So from this we can see that both $k_1$ and $k_2$ should be smaller for bigger neighborhoods."
   ]
  }
 ],
 "metadata": {
  "kernelspec": {
   "display_name": "Python 3",
   "language": "python",
   "name": "python3"
  },
  "language_info": {
   "codemirror_mode": {
    "name": "ipython",
    "version": 3
   },
   "file_extension": ".py",
   "mimetype": "text/x-python",
   "name": "python",
   "nbconvert_exporter": "python",
   "pygments_lexer": "ipython3",
   "version": "3.6.7"
  }
 },
 "nbformat": 4,
 "nbformat_minor": 2
}
